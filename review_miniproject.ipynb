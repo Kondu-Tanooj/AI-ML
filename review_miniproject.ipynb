{
  "nbformat": 4,
  "nbformat_minor": 0,
  "metadata": {
    "colab": {
      "provenance": [],
      "gpuType": "T4"
    },
    "kernelspec": {
      "name": "python3",
      "display_name": "Python 3"
    },
    "language_info": {
      "name": "python"
    },
    "accelerator": "GPU"
  },
  "cells": [
    {
      "cell_type": "code",
      "execution_count": 1,
      "metadata": {
        "colab": {
          "base_uri": "https://localhost:8080/"
        },
        "id": "xln8UFFAtkzx",
        "outputId": "f688c953-9912-4e74-c2f0-bb51fedda572"
      },
      "outputs": [
        {
          "output_type": "stream",
          "name": "stdout",
          "text": [
            "Mounted at /content/drive\n"
          ]
        }
      ],
      "source": [
        "from google.colab import drive\n",
        "drive.mount('/content/drive')"
      ]
    },
    {
      "cell_type": "code",
      "source": [
        "from tensorflow.compat.v1 import ConfigProto\n",
        "from tensorflow.compat.v1 import InteractiveSession\n",
        "\n",
        "config = ConfigProto()\n",
        "config.gpu_options.per_process_gpu_memory_fraction = 0.5\n",
        "config.gpu_options.allow_growth = True\n",
        "session = InteractiveSession(config=config)"
      ],
      "metadata": {
        "id": "ipA4AtxXuIhN"
      },
      "execution_count": 2,
      "outputs": []
    },
    {
      "cell_type": "code",
      "source": [
        "import tensorflow as tf\n",
        "print(tf.__version__)"
      ],
      "metadata": {
        "colab": {
          "base_uri": "https://localhost:8080/"
        },
        "id": "qeEGFGHsuVH5",
        "outputId": "be770d44-2892-4d7d-98d2-253208903e69"
      },
      "execution_count": 3,
      "outputs": [
        {
          "output_type": "stream",
          "name": "stdout",
          "text": [
            "2.15.0\n"
          ]
        }
      ]
    },
    {
      "cell_type": "code",
      "source": [
        "# import the libraries as shown below\n",
        "\n",
        "from tensorflow.keras.layers import Input, Lambda, Dense, Flatten\n",
        "from tensorflow.keras.models import Model\n",
        "from tensorflow.keras.applications.vgg16 import VGG16\n",
        "from tensorflow.keras.applications.vgg19 import VGG19\n",
        "from tensorflow.keras.preprocessing import image\n",
        "from tensorflow.keras.preprocessing.image import ImageDataGenerator,load_img\n",
        "from tensorflow.keras.models import Sequential\n",
        "import numpy as np\n",
        "from glob import glob\n",
        "#import matplotlib.pyplot as plt"
      ],
      "metadata": {
        "id": "cmn9Aa03ueVP"
      },
      "execution_count": 4,
      "outputs": []
    },
    {
      "cell_type": "code",
      "source": [
        "# re-size all the images to this\n",
        "IMAGE_SIZE = [224, 224]\n",
        "\n",
        "train_path = '/content/drive/MyDrive/Images splitted/train'\n",
        "valid_path = '/content/drive/MyDrive/Images splitted/val'\n"
      ],
      "metadata": {
        "id": "NSemomsoug7X"
      },
      "execution_count": 5,
      "outputs": []
    },
    {
      "cell_type": "code",
      "source": [
        "# Import the VGG16 library as shown below and add preprocessing layer to the front of VGG\n",
        "# Here we will be using imagenet weights\n",
        "\n",
        "vgg16 = VGG16(input_shape=IMAGE_SIZE + [3], weights='imagenet', include_top=False)"
      ],
      "metadata": {
        "colab": {
          "base_uri": "https://localhost:8080/"
        },
        "id": "aYse2og4ujjR",
        "outputId": "3d3491b2-5fbc-4adb-f352-c86254423107"
      },
      "execution_count": 6,
      "outputs": [
        {
          "output_type": "stream",
          "name": "stdout",
          "text": [
            "Downloading data from https://storage.googleapis.com/tensorflow/keras-applications/vgg16/vgg16_weights_tf_dim_ordering_tf_kernels_notop.h5\n",
            "58889256/58889256 [==============================] - 0s 0us/step\n"
          ]
        }
      ]
    },
    {
      "cell_type": "code",
      "source": [
        "# don't train existing weights\n",
        "for layer in vgg16.layers:\n",
        "    layer.trainable = False"
      ],
      "metadata": {
        "id": "RipDm60Eumi-"
      },
      "execution_count": 7,
      "outputs": []
    },
    {
      "cell_type": "code",
      "source": [
        "# useful for getting number of output classes\n",
        "folders = glob('/content/drive/MyDrive/Images/*')"
      ],
      "metadata": {
        "id": "L7ktWC6bupLK"
      },
      "execution_count": 8,
      "outputs": []
    },
    {
      "cell_type": "code",
      "source": [
        "folders"
      ],
      "metadata": {
        "colab": {
          "base_uri": "https://localhost:8080/"
        },
        "id": "vWOYRLMxur5q",
        "outputId": "59f952d8-96f1-4dfd-88fc-3430fad2e024"
      },
      "execution_count": 9,
      "outputs": [
        {
          "output_type": "execute_result",
          "data": {
            "text/plain": [
              "['/content/drive/MyDrive/Images/Fake', '/content/drive/MyDrive/Images/Real']"
            ]
          },
          "metadata": {},
          "execution_count": 9
        }
      ]
    },
    {
      "cell_type": "code",
      "source": [
        "# our layers - you can add more if you want\n",
        "x = Flatten()(vgg16.output)\n",
        "len(folders)"
      ],
      "metadata": {
        "colab": {
          "base_uri": "https://localhost:8080/"
        },
        "id": "W444StnYuuh3",
        "outputId": "e9508c9c-a304-44ac-cd6a-d01cddcfe3cc"
      },
      "execution_count": 10,
      "outputs": [
        {
          "output_type": "execute_result",
          "data": {
            "text/plain": [
              "2"
            ]
          },
          "metadata": {},
          "execution_count": 10
        }
      ]
    },
    {
      "cell_type": "code",
      "source": [
        "prediction = Dense(len(folders), activation='sigmoid')(x)\n",
        "\n",
        "# create a model object\n",
        "model = Model(inputs=vgg16.input, outputs=prediction)\n",
        "\n",
        "# view the structure of the model\n",
        "model.summary()"
      ],
      "metadata": {
        "colab": {
          "base_uri": "https://localhost:8080/"
        },
        "id": "KfxcTWV-uxCB",
        "outputId": "3000be22-b27f-43f1-9b64-2c10a8f9bd41"
      },
      "execution_count": 11,
      "outputs": [
        {
          "output_type": "stream",
          "name": "stdout",
          "text": [
            "Model: \"model\"\n",
            "_________________________________________________________________\n",
            " Layer (type)                Output Shape              Param #   \n",
            "=================================================================\n",
            " input_1 (InputLayer)        [(None, 224, 224, 3)]     0         \n",
            "                                                                 \n",
            " block1_conv1 (Conv2D)       (None, 224, 224, 64)      1792      \n",
            "                                                                 \n",
            " block1_conv2 (Conv2D)       (None, 224, 224, 64)      36928     \n",
            "                                                                 \n",
            " block1_pool (MaxPooling2D)  (None, 112, 112, 64)      0         \n",
            "                                                                 \n",
            " block2_conv1 (Conv2D)       (None, 112, 112, 128)     73856     \n",
            "                                                                 \n",
            " block2_conv2 (Conv2D)       (None, 112, 112, 128)     147584    \n",
            "                                                                 \n",
            " block2_pool (MaxPooling2D)  (None, 56, 56, 128)       0         \n",
            "                                                                 \n",
            " block3_conv1 (Conv2D)       (None, 56, 56, 256)       295168    \n",
            "                                                                 \n",
            " block3_conv2 (Conv2D)       (None, 56, 56, 256)       590080    \n",
            "                                                                 \n",
            " block3_conv3 (Conv2D)       (None, 56, 56, 256)       590080    \n",
            "                                                                 \n",
            " block3_pool (MaxPooling2D)  (None, 28, 28, 256)       0         \n",
            "                                                                 \n",
            " block4_conv1 (Conv2D)       (None, 28, 28, 512)       1180160   \n",
            "                                                                 \n",
            " block4_conv2 (Conv2D)       (None, 28, 28, 512)       2359808   \n",
            "                                                                 \n",
            " block4_conv3 (Conv2D)       (None, 28, 28, 512)       2359808   \n",
            "                                                                 \n",
            " block4_pool (MaxPooling2D)  (None, 14, 14, 512)       0         \n",
            "                                                                 \n",
            " block5_conv1 (Conv2D)       (None, 14, 14, 512)       2359808   \n",
            "                                                                 \n",
            " block5_conv2 (Conv2D)       (None, 14, 14, 512)       2359808   \n",
            "                                                                 \n",
            " block5_conv3 (Conv2D)       (None, 14, 14, 512)       2359808   \n",
            "                                                                 \n",
            " block5_pool (MaxPooling2D)  (None, 7, 7, 512)         0         \n",
            "                                                                 \n",
            " flatten (Flatten)           (None, 25088)             0         \n",
            "                                                                 \n",
            " dense (Dense)               (None, 2)                 50178     \n",
            "                                                                 \n",
            "=================================================================\n",
            "Total params: 14764866 (56.32 MB)\n",
            "Trainable params: 50178 (196.01 KB)\n",
            "Non-trainable params: 14714688 (56.13 MB)\n",
            "_________________________________________________________________\n"
          ]
        }
      ]
    },
    {
      "cell_type": "code",
      "source": [
        "# tell the model what cost and optimization method to use\n",
        "model.compile(\n",
        "  loss='categorical_crossentropy',\n",
        "  optimizer='adam',\n",
        "  metrics=['accuracy']\n",
        ")"
      ],
      "metadata": {
        "id": "ZC2ZTyqfu3jG"
      },
      "execution_count": 12,
      "outputs": []
    },
    {
      "cell_type": "code",
      "source": [
        "# Use the Image Data Generator to import the images from the dataset\n",
        "from tensorflow.keras.preprocessing.image import ImageDataGenerator\n",
        "\n",
        "train_datagen = ImageDataGenerator(rescale = 1./255,\n",
        "                                   shear_range = 0.2,\n",
        "                                   zoom_range = 0.2,\n",
        "                                   horizontal_flip = True)\n",
        "\n",
        "test_datagen = ImageDataGenerator(rescale = 1./255)"
      ],
      "metadata": {
        "id": "q182QQbMu6f6"
      },
      "execution_count": 13,
      "outputs": []
    },
    {
      "cell_type": "code",
      "source": [
        "# Make sure you provide the same target size as initialied for the image size\n",
        "training_set = train_datagen.flow_from_directory('/content/drive/MyDrive/Images splitted/train',\n",
        "                                                 target_size = (224, 224),\n",
        "                                                 batch_size = 32,\n",
        "                                                 class_mode = 'categorical')"
      ],
      "metadata": {
        "colab": {
          "base_uri": "https://localhost:8080/"
        },
        "id": "FizJILG-u9mo",
        "outputId": "4d20b456-8214-467c-c8de-914ce647198e"
      },
      "execution_count": 14,
      "outputs": [
        {
          "output_type": "stream",
          "name": "stdout",
          "text": [
            "Found 618 images belonging to 2 classes.\n"
          ]
        }
      ]
    },
    {
      "cell_type": "code",
      "source": [
        "test_set = test_datagen.flow_from_directory('/content/drive/MyDrive/Images splitted/val',\n",
        "                                            target_size = (224, 224),\n",
        "                                            batch_size = 32,\n",
        "                                            class_mode = 'categorical')"
      ],
      "metadata": {
        "colab": {
          "base_uri": "https://localhost:8080/"
        },
        "id": "qHEQmyZovFAR",
        "outputId": "821d5b52-2424-4644-fb2d-084d51082eeb"
      },
      "execution_count": 15,
      "outputs": [
        {
          "output_type": "stream",
          "name": "stdout",
          "text": [
            "Found 207 images belonging to 2 classes.\n"
          ]
        }
      ]
    },
    {
      "cell_type": "code",
      "source": [
        "# fit the model\n",
        "# Run the cell. It will take some time to execute\n",
        "r = model.fit_generator(\n",
        "  training_set,\n",
        "  validation_data=test_set,\n",
        "  epochs=50,\n",
        "  steps_per_epoch=len(training_set),\n",
        "  validation_steps=len(test_set)\n",
        ")"
      ],
      "metadata": {
        "colab": {
          "base_uri": "https://localhost:8080/"
        },
        "id": "IvBf8NoEvkhW",
        "outputId": "e0c98794-5d9f-4cc8-8a0b-987c065d15ed"
      },
      "execution_count": 16,
      "outputs": [
        {
          "output_type": "stream",
          "name": "stderr",
          "text": [
            "<ipython-input-16-69229fe26ea3>:3: UserWarning: `Model.fit_generator` is deprecated and will be removed in a future version. Please use `Model.fit`, which supports generators.\n",
            "  r = model.fit_generator(\n"
          ]
        },
        {
          "output_type": "stream",
          "name": "stdout",
          "text": [
            "Epoch 1/50\n",
            "20/20 [==============================] - 276s 14s/step - loss: 1.1718 - accuracy: 0.5971 - val_loss: 0.7381 - val_accuracy: 0.6763\n",
            "Epoch 2/50\n",
            "20/20 [==============================] - 11s 548ms/step - loss: 0.6349 - accuracy: 0.7314 - val_loss: 0.6101 - val_accuracy: 0.7295\n",
            "Epoch 3/50\n",
            "20/20 [==============================] - 11s 534ms/step - loss: 0.3698 - accuracy: 0.8236 - val_loss: 0.4997 - val_accuracy: 0.7585\n",
            "Epoch 4/50\n",
            "20/20 [==============================] - 11s 541ms/step - loss: 0.3223 - accuracy: 0.8285 - val_loss: 0.4298 - val_accuracy: 0.7729\n",
            "Epoch 5/50\n",
            "20/20 [==============================] - 10s 500ms/step - loss: 0.2947 - accuracy: 0.8592 - val_loss: 0.4002 - val_accuracy: 0.7923\n",
            "Epoch 6/50\n",
            "20/20 [==============================] - 11s 544ms/step - loss: 0.2890 - accuracy: 0.8770 - val_loss: 0.4240 - val_accuracy: 0.7923\n",
            "Epoch 7/50\n",
            "20/20 [==============================] - 11s 538ms/step - loss: 0.2697 - accuracy: 0.8770 - val_loss: 0.4138 - val_accuracy: 0.7874\n",
            "Epoch 8/50\n",
            "20/20 [==============================] - 11s 555ms/step - loss: 0.2556 - accuracy: 0.8867 - val_loss: 0.5193 - val_accuracy: 0.7923\n",
            "Epoch 9/50\n",
            "20/20 [==============================] - 10s 497ms/step - loss: 0.2014 - accuracy: 0.9191 - val_loss: 0.4134 - val_accuracy: 0.8116\n",
            "Epoch 10/50\n",
            "20/20 [==============================] - 11s 549ms/step - loss: 0.1935 - accuracy: 0.9256 - val_loss: 0.4022 - val_accuracy: 0.7826\n",
            "Epoch 11/50\n",
            "20/20 [==============================] - 11s 540ms/step - loss: 0.1706 - accuracy: 0.9320 - val_loss: 0.5153 - val_accuracy: 0.7874\n",
            "Epoch 12/50\n",
            "20/20 [==============================] - 11s 528ms/step - loss: 0.2025 - accuracy: 0.9256 - val_loss: 0.5941 - val_accuracy: 0.7633\n",
            "Epoch 13/50\n",
            "20/20 [==============================] - 10s 505ms/step - loss: 0.2131 - accuracy: 0.9223 - val_loss: 0.4370 - val_accuracy: 0.8019\n",
            "Epoch 14/50\n",
            "20/20 [==============================] - 11s 534ms/step - loss: 0.1606 - accuracy: 0.9401 - val_loss: 0.4054 - val_accuracy: 0.8357\n",
            "Epoch 15/50\n",
            "20/20 [==============================] - 11s 543ms/step - loss: 0.1164 - accuracy: 0.9660 - val_loss: 0.4050 - val_accuracy: 0.8068\n",
            "Epoch 16/50\n",
            "20/20 [==============================] - 11s 550ms/step - loss: 0.1563 - accuracy: 0.9385 - val_loss: 0.4970 - val_accuracy: 0.7874\n",
            "Epoch 17/50\n",
            "20/20 [==============================] - 10s 501ms/step - loss: 0.1237 - accuracy: 0.9563 - val_loss: 0.4930 - val_accuracy: 0.7923\n",
            "Epoch 18/50\n",
            "20/20 [==============================] - 10s 534ms/step - loss: 0.1225 - accuracy: 0.9547 - val_loss: 0.4311 - val_accuracy: 0.8116\n",
            "Epoch 19/50\n",
            "20/20 [==============================] - 11s 542ms/step - loss: 0.1045 - accuracy: 0.9676 - val_loss: 0.4382 - val_accuracy: 0.8019\n",
            "Epoch 20/50\n",
            "20/20 [==============================] - 11s 550ms/step - loss: 0.1230 - accuracy: 0.9612 - val_loss: 0.4256 - val_accuracy: 0.8019\n",
            "Epoch 21/50\n",
            "20/20 [==============================] - 11s 537ms/step - loss: 0.1418 - accuracy: 0.9337 - val_loss: 0.5010 - val_accuracy: 0.8116\n",
            "Epoch 22/50\n",
            "20/20 [==============================] - 11s 546ms/step - loss: 0.1362 - accuracy: 0.9434 - val_loss: 0.6279 - val_accuracy: 0.7488\n",
            "Epoch 23/50\n",
            "20/20 [==============================] - 11s 534ms/step - loss: 0.0943 - accuracy: 0.9709 - val_loss: 0.6034 - val_accuracy: 0.7681\n",
            "Epoch 24/50\n",
            "20/20 [==============================] - 10s 506ms/step - loss: 0.0859 - accuracy: 0.9806 - val_loss: 0.4488 - val_accuracy: 0.7971\n",
            "Epoch 25/50\n",
            "20/20 [==============================] - 11s 529ms/step - loss: 0.0923 - accuracy: 0.9741 - val_loss: 0.4590 - val_accuracy: 0.8019\n",
            "Epoch 26/50\n",
            "20/20 [==============================] - 11s 537ms/step - loss: 0.0876 - accuracy: 0.9709 - val_loss: 0.5243 - val_accuracy: 0.7874\n",
            "Epoch 27/50\n",
            "20/20 [==============================] - 11s 525ms/step - loss: 0.0862 - accuracy: 0.9757 - val_loss: 0.4551 - val_accuracy: 0.7971\n",
            "Epoch 28/50\n",
            "20/20 [==============================] - 11s 540ms/step - loss: 0.0893 - accuracy: 0.9725 - val_loss: 0.4668 - val_accuracy: 0.7923\n",
            "Epoch 29/50\n",
            "20/20 [==============================] - 11s 554ms/step - loss: 0.0867 - accuracy: 0.9725 - val_loss: 0.4747 - val_accuracy: 0.7874\n",
            "Epoch 30/50\n",
            "20/20 [==============================] - 11s 563ms/step - loss: 0.0853 - accuracy: 0.9790 - val_loss: 0.5267 - val_accuracy: 0.7971\n",
            "Epoch 31/50\n",
            "20/20 [==============================] - 10s 496ms/step - loss: 0.0708 - accuracy: 0.9806 - val_loss: 0.5078 - val_accuracy: 0.7971\n",
            "Epoch 32/50\n",
            "20/20 [==============================] - 10s 505ms/step - loss: 0.0790 - accuracy: 0.9806 - val_loss: 0.4789 - val_accuracy: 0.7874\n",
            "Epoch 33/50\n",
            "20/20 [==============================] - 11s 562ms/step - loss: 0.0812 - accuracy: 0.9725 - val_loss: 0.4736 - val_accuracy: 0.8068\n",
            "Epoch 34/50\n",
            "20/20 [==============================] - 11s 554ms/step - loss: 0.0806 - accuracy: 0.9741 - val_loss: 0.5891 - val_accuracy: 0.7729\n",
            "Epoch 35/50\n",
            "20/20 [==============================] - 11s 562ms/step - loss: 0.0573 - accuracy: 0.9854 - val_loss: 0.5346 - val_accuracy: 0.7826\n",
            "Epoch 36/50\n",
            "20/20 [==============================] - 10s 488ms/step - loss: 0.0722 - accuracy: 0.9741 - val_loss: 0.4842 - val_accuracy: 0.8068\n",
            "Epoch 37/50\n",
            "20/20 [==============================] - 11s 522ms/step - loss: 0.0721 - accuracy: 0.9757 - val_loss: 0.4915 - val_accuracy: 0.8019\n",
            "Epoch 38/50\n",
            "20/20 [==============================] - 11s 545ms/step - loss: 0.0564 - accuracy: 0.9887 - val_loss: 0.4330 - val_accuracy: 0.8309\n",
            "Epoch 39/50\n",
            "20/20 [==============================] - 11s 547ms/step - loss: 0.0726 - accuracy: 0.9790 - val_loss: 0.4869 - val_accuracy: 0.8164\n",
            "Epoch 40/50\n",
            "20/20 [==============================] - 10s 535ms/step - loss: 0.0643 - accuracy: 0.9871 - val_loss: 0.6869 - val_accuracy: 0.7826\n",
            "Epoch 41/50\n",
            "20/20 [==============================] - 10s 492ms/step - loss: 0.0643 - accuracy: 0.9757 - val_loss: 0.4899 - val_accuracy: 0.8019\n",
            "Epoch 42/50\n",
            "20/20 [==============================] - 11s 560ms/step - loss: 0.0659 - accuracy: 0.9887 - val_loss: 0.5798 - val_accuracy: 0.7923\n",
            "Epoch 43/50\n",
            "20/20 [==============================] - 11s 543ms/step - loss: 0.0721 - accuracy: 0.9822 - val_loss: 0.4894 - val_accuracy: 0.8261\n",
            "Epoch 44/50\n",
            "20/20 [==============================] - 10s 494ms/step - loss: 0.0578 - accuracy: 0.9871 - val_loss: 0.5646 - val_accuracy: 0.8164\n",
            "Epoch 45/50\n",
            "20/20 [==============================] - 11s 529ms/step - loss: 0.0500 - accuracy: 0.9935 - val_loss: 0.5016 - val_accuracy: 0.8068\n",
            "Epoch 46/50\n",
            "20/20 [==============================] - 11s 546ms/step - loss: 0.0573 - accuracy: 0.9854 - val_loss: 0.7131 - val_accuracy: 0.7729\n",
            "Epoch 47/50\n",
            "20/20 [==============================] - 11s 550ms/step - loss: 0.0647 - accuracy: 0.9773 - val_loss: 0.4947 - val_accuracy: 0.7874\n",
            "Epoch 48/50\n",
            "20/20 [==============================] - 10s 504ms/step - loss: 0.0626 - accuracy: 0.9838 - val_loss: 0.6195 - val_accuracy: 0.8261\n",
            "Epoch 49/50\n",
            "20/20 [==============================] - 11s 545ms/step - loss: 0.0576 - accuracy: 0.9822 - val_loss: 0.6170 - val_accuracy: 0.7923\n",
            "Epoch 50/50\n",
            "20/20 [==============================] - 11s 552ms/step - loss: 0.0469 - accuracy: 0.9919 - val_loss: 0.5732 - val_accuracy: 0.8213\n"
          ]
        }
      ]
    },
    {
      "cell_type": "code",
      "source": [
        "# Evaluate the model on the test set\n",
        "eval_result = model.evaluate(test_set, steps=len(test_set))\n",
        "\n",
        "# Calculate the accuracy\n",
        "total_accuracy = eval_result[1]  # Assuming the accuracy metric is the second one returned by evaluate()\n",
        "\n",
        "print(\"Total Accuracy:\", total_accuracy)"
      ],
      "metadata": {
        "colab": {
          "base_uri": "https://localhost:8080/"
        },
        "id": "9ys6n4QszzZB",
        "outputId": "3557bef6-a14e-46dd-a8b2-4e9ddeb4b03a"
      },
      "execution_count": 17,
      "outputs": [
        {
          "output_type": "stream",
          "name": "stdout",
          "text": [
            "7/7 [==============================] - 1s 131ms/step - loss: 0.5732 - accuracy: 0.8213\n",
            "Total Accuracy: 0.8212560415267944\n"
          ]
        }
      ]
    },
    {
      "cell_type": "code",
      "source": [
        "import matplotlib.pyplot as plt\n",
        "# plot the loss\n",
        "plt.plot(r.history['loss'], label='train loss')\n",
        "plt.plot(r.history['val_loss'], label='val loss')\n",
        "plt.legend()\n",
        "plt.show()\n",
        "plt.savefig('LossVal_loss')\n",
        "\n",
        "# plot the accuracy\n",
        "plt.plot(r.history['accuracy'], label='train acc')\n",
        "plt.plot(r.history['val_accuracy'], label='val acc')\n",
        "plt.legend()\n",
        "plt.show()\n",
        "plt.savefig('AccVal_acc')"
      ],
      "metadata": {
        "colab": {
          "base_uri": "https://localhost:8080/",
          "height": 860
        },
        "id": "hxHZOfRAz7Ox",
        "outputId": "6d2a0a7b-784c-42de-a579-d96f84333677"
      },
      "execution_count": 19,
      "outputs": [
        {
          "output_type": "display_data",
          "data": {
            "text/plain": [
              "<Figure size 640x480 with 1 Axes>"
            ],
            "image/png": "[encoded data removed]"
          },
          "metadata": {}
        },
        {
          "output_type": "display_data",
          "data": {
            "text/plain": [
              "<Figure size 640x480 with 1 Axes>"
            ],
            "image/png": "[encoded data removed]"
          },
          "metadata": {}
        },
        {
          "output_type": "display_data",
          "data": {
            "text/plain": [
              "<Figure size 640x480 with 0 Axes>"
            ]
          },
          "metadata": {}
        }
      ]
    },
    {
      "cell_type": "code",
      "source": [
        "# save it as a h5 file\n",
        "\n",
        "\n",
        "from tensorflow.keras.models import load_model\n",
        "\n",
        "model.save('/content/drive/MyDrive/model2_vgg16.h5')"
      ],
      "metadata": {
        "id": "UnzUQgvA0bLa"
      },
      "execution_count": 21,
      "outputs": []
    },
    {
      "cell_type": "code",
      "source": [
        "y_pred = model.predict(test_set)\n",
        "y_pred"
      ],
      "metadata": {
        "colab": {
          "base_uri": "https://localhost:8080/"
        },
        "id": "aSFXpxQ20mGM",
        "outputId": "d8b530a9-e177-46af-d33f-2047b8b89700"
      },
      "execution_count": 22,
      "outputs": [
        {
          "output_type": "stream",
          "name": "stdout",
          "text": [
            "7/7 [==============================] - 1s 117ms/step\n"
          ]
        },
        {
          "output_type": "execute_result",
          "data": {
            "text/plain": [
              "array([[9.75725055e-01, 2.01830268e-02],\n",
              "       [5.19975245e-01, 6.23255610e-01],\n",
              "       [8.55758637e-02, 9.32950854e-01],\n",
              "       [9.79964972e-01, 3.19998190e-02],\n",
              "       [9.99560893e-01, 5.32870181e-04],\n",
              "       [9.99614477e-01, 7.64443190e-04],\n",
              "       [9.88995433e-01, 1.03113176e-02],\n",
              "       [2.61822846e-02, 9.67492163e-01],\n",
              "       [9.31021810e-01, 1.73532426e-01],\n",
              "       [9.63944912e-01, 7.58176893e-02],\n",
              "       [3.38636488e-01, 8.12530696e-01],\n",
              "       [6.71518028e-01, 4.45683956e-01],\n",
              "       [9.96830642e-01, 7.23221246e-03],\n",
              "       [9.96246636e-01, 3.10895196e-03],\n",
              "       [3.97918336e-02, 9.86137569e-01],\n",
              "       [9.66323197e-01, 2.97999047e-02],\n",
              "       [9.84761834e-01, 1.15643777e-02],\n",
              "       [3.01715247e-02, 9.73767400e-01],\n",
              "       [9.99067068e-01, 2.16458039e-03],\n",
              "       [9.99372125e-01, 6.09824609e-04],\n",
              "       [9.77235913e-01, 1.67464241e-02],\n",
              "       [6.52897298e-01, 2.95138985e-01],\n",
              "       [2.90669445e-02, 9.75329399e-01],\n",
              "       [9.81681049e-01, 1.73630584e-02],\n",
              "       [5.96844792e-01, 4.38459545e-01],\n",
              "       [9.98623013e-01, 1.08609896e-03],\n",
              "       [6.71357036e-01, 5.53557038e-01],\n",
              "       [9.99057472e-01, 2.04458251e-03],\n",
              "       [8.91992390e-01, 3.23582232e-01],\n",
              "       [9.71410096e-01, 4.46498021e-02],\n",
              "       [8.59213769e-01, 2.06404820e-01],\n",
              "       [9.53955889e-01, 1.11153901e-01],\n",
              "       [9.96679366e-01, 6.85905991e-03],\n",
              "       [9.74700391e-01, 3.36094536e-02],\n",
              "       [9.90687668e-01, 1.02107180e-02],\n",
              "       [4.74702358e-01, 5.43867052e-01],\n",
              "       [9.08164680e-03, 9.97630596e-01],\n",
              "       [6.28922582e-01, 3.68972600e-01],\n",
              "       [9.95593011e-01, 8.72586202e-03],\n",
              "       [4.02721733e-01, 7.90924191e-01],\n",
              "       [9.20618713e-01, 9.03485492e-02],\n",
              "       [7.66393960e-01, 3.21704924e-01],\n",
              "       [9.99114454e-01, 1.63793738e-03],\n",
              "       [9.68681097e-01, 3.86143997e-02],\n",
              "       [9.99897361e-01, 2.93168181e-04],\n",
              "       [5.35906613e-01, 4.65463310e-01],\n",
              "       [9.82065976e-01, 4.56078537e-02],\n",
              "       [9.26242411e-01, 8.25537816e-02],\n",
              "       [7.81666398e-01, 4.01085794e-01],\n",
              "       [5.07407546e-01, 5.12442112e-01],\n",
              "       [9.79509652e-01, 1.86738670e-02],\n",
              "       [9.86229181e-01, 3.16867791e-02],\n",
              "       [2.23797411e-01, 7.92515874e-01],\n",
              "       [9.92225170e-01, 7.00587174e-03],\n",
              "       [9.44486082e-01, 8.01693350e-02],\n",
              "       [9.04180184e-02, 9.48052645e-01],\n",
              "       [4.97581542e-01, 6.97074533e-01],\n",
              "       [8.97441208e-01, 1.32143363e-01],\n",
              "       [9.99964118e-01, 4.73667205e-05],\n",
              "       [9.22715485e-01, 9.12001655e-02],\n",
              "       [9.96105373e-01, 5.91287063e-03],\n",
              "       [7.72603333e-01, 2.81188786e-01],\n",
              "       [9.99948025e-01, 8.97742284e-05],\n",
              "       [5.95910847e-01, 5.21963179e-01],\n",
              "       [9.87907827e-01, 2.28245556e-02],\n",
              "       [5.81146657e-01, 5.37801921e-01],\n",
              "       [9.99612451e-01, 8.63422698e-04],\n",
              "       [9.42059517e-01, 1.06684260e-01],\n",
              "       [9.98351693e-01, 2.32194597e-03],\n",
              "       [9.97755110e-01, 4.16361587e-03],\n",
              "       [9.69246984e-01, 6.69305846e-02],\n",
              "       [5.82232535e-01, 7.57313848e-01],\n",
              "       [9.95646775e-01, 6.36070967e-03],\n",
              "       [9.94373322e-01, 7.96334725e-03],\n",
              "       [5.98341882e-01, 4.80866551e-01],\n",
              "       [9.94849741e-01, 7.00722542e-03],\n",
              "       [9.74869967e-01, 3.23100090e-02],\n",
              "       [4.29763317e-01, 4.97461200e-01],\n",
              "       [9.99536097e-01, 3.86828207e-04],\n",
              "       [2.28874519e-01, 7.33189821e-01],\n",
              "       [8.51388812e-01, 1.43392697e-01],\n",
              "       [9.81084049e-01, 1.81536935e-02],\n",
              "       [2.87397891e-01, 8.23307991e-01],\n",
              "       [4.88247275e-02, 9.69510436e-01],\n",
              "       [9.29283023e-01, 1.40226260e-01],\n",
              "       [7.07407951e-01, 5.00145197e-01],\n",
              "       [3.03364429e-03, 9.96684134e-01],\n",
              "       [9.86067414e-01, 3.10493037e-02],\n",
              "       [9.59520519e-01, 4.02030163e-02],\n",
              "       [7.33582854e-01, 3.31027478e-01],\n",
              "       [9.60511744e-01, 3.90025675e-02],\n",
              "       [9.98737872e-01, 4.59824177e-03],\n",
              "       [4.61965129e-02, 9.27209496e-01],\n",
              "       [4.15507674e-01, 6.68524802e-01],\n",
              "       [9.78082955e-01, 4.40984890e-02],\n",
              "       [9.98493314e-01, 4.73300321e-03],\n",
              "       [9.57620800e-01, 3.33606116e-02],\n",
              "       [8.57757807e-01, 1.62402242e-01],\n",
              "       [9.51691449e-01, 1.02916695e-01],\n",
              "       [9.89160359e-01, 2.68931612e-02],\n",
              "       [3.91276538e-01, 5.26140630e-01],\n",
              "       [9.99610543e-01, 9.58350254e-04],\n",
              "       [9.90314722e-01, 1.11793596e-02],\n",
              "       [8.37094009e-01, 2.40330309e-01],\n",
              "       [7.46570349e-01, 2.61279017e-01],\n",
              "       [7.90274858e-01, 3.21765631e-01],\n",
              "       [9.20157015e-01, 1.09745823e-01],\n",
              "       [6.26829863e-01, 5.91665983e-01],\n",
              "       [9.82611358e-01, 3.21047753e-02],\n",
              "       [9.69562471e-01, 1.02678262e-01],\n",
              "       [9.18664455e-01, 2.40413263e-01],\n",
              "       [9.99388933e-01, 8.35402636e-04],\n",
              "       [4.87591773e-02, 9.07619715e-01],\n",
              "       [9.99847174e-01, 1.89668761e-04],\n",
              "       [6.84122086e-01, 4.99717385e-01],\n",
              "       [2.97935367e-01, 8.17333221e-01],\n",
              "       [4.29038465e-01, 4.99458194e-01],\n",
              "       [6.19644821e-01, 2.11728662e-01],\n",
              "       [8.83489847e-01, 2.42741033e-01],\n",
              "       [9.97708678e-01, 3.95416375e-03],\n",
              "       [4.49911177e-01, 5.58063149e-01],\n",
              "       [5.08597612e-01, 7.98192680e-01],\n",
              "       [9.97331858e-01, 2.47232802e-03],\n",
              "       [9.99665856e-01, 8.18631437e-04],\n",
              "       [9.58856761e-01, 3.20464596e-02],\n",
              "       [2.36906018e-02, 9.81864810e-01],\n",
              "       [7.62882411e-01, 3.15879315e-01],\n",
              "       [3.32069546e-01, 7.79446065e-01],\n",
              "       [9.92591977e-01, 8.20412301e-03],\n",
              "       [9.32007074e-01, 9.71329063e-02],\n",
              "       [5.51498830e-01, 6.26473606e-01],\n",
              "       [6.83598518e-01, 4.14122432e-01],\n",
              "       [9.98827875e-01, 2.14622798e-03],\n",
              "       [9.71561611e-01, 6.09763414e-02],\n",
              "       [9.66043174e-01, 4.19053696e-02],\n",
              "       [9.95221972e-01, 8.03063065e-03],\n",
              "       [9.61137295e-01, 4.39985283e-02],\n",
              "       [4.61118162e-01, 5.84361315e-01],\n",
              "       [9.25300002e-01, 1.20439775e-01],\n",
              "       [9.89670217e-01, 1.19307339e-02],\n",
              "       [4.44785841e-02, 9.69544649e-01],\n",
              "       [6.04306102e-01, 4.25552636e-01],\n",
              "       [8.01027179e-01, 2.52297938e-01],\n",
              "       [9.78110433e-01, 1.59849785e-02],\n",
              "       [8.02811861e-01, 1.90676898e-01],\n",
              "       [6.13562524e-01, 2.46781006e-01],\n",
              "       [8.02500308e-01, 2.84290522e-01],\n",
              "       [3.24266642e-01, 6.78243458e-01],\n",
              "       [2.70360976e-01, 8.04432213e-01],\n",
              "       [9.52617645e-01, 6.94808438e-02],\n",
              "       [4.29461449e-01, 5.69555044e-01],\n",
              "       [8.34225237e-01, 1.94899961e-01],\n",
              "       [3.43909949e-01, 7.67565310e-01],\n",
              "       [9.88430262e-01, 3.03081386e-02],\n",
              "       [8.34446728e-01, 2.13413566e-01],\n",
              "       [9.86134887e-01, 2.53960304e-02],\n",
              "       [1.70313254e-01, 9.18518484e-01],\n",
              "       [6.80237830e-01, 4.04321283e-01],\n",
              "       [9.77055967e-01, 4.62424196e-02],\n",
              "       [5.00226244e-02, 9.61471856e-01],\n",
              "       [9.49740529e-01, 6.19973913e-02],\n",
              "       [7.14850187e-01, 4.05061841e-01],\n",
              "       [8.15826774e-01, 2.80903250e-01],\n",
              "       [8.66037309e-01, 1.87568352e-01],\n",
              "       [8.28756452e-01, 2.78250694e-01],\n",
              "       [9.98694003e-01, 1.61354127e-03],\n",
              "       [8.13067615e-01, 3.82967472e-01],\n",
              "       [9.51978087e-01, 4.57611419e-02],\n",
              "       [9.99156594e-01, 1.09819113e-03],\n",
              "       [8.18090379e-01, 1.72242373e-01],\n",
              "       [3.80997300e-01, 5.46078742e-01],\n",
              "       [5.20982265e-01, 4.66058731e-01],\n",
              "       [5.04699051e-01, 5.41608036e-01],\n",
              "       [5.70474565e-01, 5.55032492e-01],\n",
              "       [9.86806810e-01, 4.18398194e-02],\n",
              "       [9.86865997e-01, 2.17950176e-02],\n",
              "       [8.65659654e-01, 1.25011727e-01],\n",
              "       [1.30993307e-01, 8.60356748e-01],\n",
              "       [9.99981999e-01, 2.11052375e-05],\n",
              "       [3.37108821e-01, 6.96690381e-01],\n",
              "       [8.93758595e-01, 1.44971192e-01],\n",
              "       [9.72167194e-01, 7.27878511e-02],\n",
              "       [8.21964741e-01, 1.72917768e-01],\n",
              "       [9.95681763e-01, 7.08798086e-03],\n",
              "       [5.98442376e-01, 3.63286197e-01],\n",
              "       [7.49566019e-01, 3.24884325e-01],\n",
              "       [3.09679627e-01, 7.55817771e-01],\n",
              "       [9.87222016e-01, 1.79404579e-02],\n",
              "       [8.34412038e-01, 2.41548821e-01],\n",
              "       [9.29423511e-01, 1.11402802e-01],\n",
              "       [9.99569952e-01, 4.69023711e-04],\n",
              "       [2.41796464e-01, 8.43707025e-01],\n",
              "       [9.99222279e-01, 9.84657323e-04],\n",
              "       [7.87148714e-01, 3.36031049e-01],\n",
              "       [9.18000817e-01, 9.36599821e-02],\n",
              "       [5.86211443e-01, 4.52932268e-01],\n",
              "       [9.99657154e-01, 5.24034607e-04],\n",
              "       [9.96216953e-01, 7.59399729e-03],\n",
              "       [1.51385292e-01, 8.65288615e-01],\n",
              "       [8.97506595e-01, 9.39487293e-02],\n",
              "       [9.74746823e-01, 1.63582787e-02],\n",
              "       [4.36842322e-01, 5.47621489e-01],\n",
              "       [9.99886274e-01, 2.44577444e-04],\n",
              "       [9.97830212e-01, 1.76816073e-03],\n",
              "       [6.13709748e-01, 5.95563293e-01],\n",
              "       [9.97288704e-01, 3.19434679e-03],\n",
              "       [3.37746859e-01, 7.85162568e-01]], dtype=float32)"
            ]
          },
          "metadata": {},
          "execution_count": 22
        }
      ]
    },
    {
      "cell_type": "code",
      "source": [
        "import numpy as np\n",
        "y_pred = np.argmax(y_pred, axis=1)\n",
        "y_pred"
      ],
      "metadata": {
        "colab": {
          "base_uri": "https://localhost:8080/"
        },
        "id": "VKaB3UqQ0p8w",
        "outputId": "516ba0f5-a6d3-4531-dc49-d10d2f88c145"
      },
      "execution_count": 23,
      "outputs": [
        {
          "output_type": "execute_result",
          "data": {
            "text/plain": [
              "array([0, 1, 1, 0, 0, 0, 0, 1, 0, 0, 1, 0, 0, 0, 1, 0, 0, 1, 0, 0, 0, 0,\n",
              "       1, 0, 0, 0, 0, 0, 0, 0, 0, 0, 0, 0, 0, 1, 1, 0, 0, 1, 0, 0, 0, 0,\n",
              "       0, 0, 0, 0, 0, 1, 0, 0, 1, 0, 0, 1, 1, 0, 0, 0, 0, 0, 0, 0, 0, 0,\n",
              "       0, 0, 0, 0, 0, 1, 0, 0, 0, 0, 0, 1, 0, 1, 0, 0, 1, 1, 0, 0, 1, 0,\n",
              "       0, 0, 0, 0, 1, 1, 0, 0, 0, 0, 0, 0, 1, 0, 0, 0, 0, 0, 0, 0, 0, 0,\n",
              "       0, 0, 1, 0, 0, 1, 1, 0, 0, 0, 1, 1, 0, 0, 0, 1, 0, 1, 0, 0, 1, 0,\n",
              "       0, 0, 0, 0, 0, 1, 0, 0, 1, 0, 0, 0, 0, 0, 0, 1, 1, 0, 1, 0, 1, 0,\n",
              "       0, 0, 1, 0, 0, 1, 0, 0, 0, 0, 0, 0, 0, 0, 0, 0, 1, 0, 1, 0, 0, 0,\n",
              "       0, 1, 0, 1, 0, 0, 0, 0, 0, 0, 1, 0, 0, 0, 0, 1, 0, 0, 0, 0, 0, 0,\n",
              "       1, 0, 0, 1, 0, 0, 0, 0, 1])"
            ]
          },
          "metadata": {},
          "execution_count": 23
        }
      ]
    },
    {
      "cell_type": "code",
      "source": [
        "from tensorflow.keras.models import load_model\n",
        "from tensorflow.keras.preprocessing import image\n",
        "model=load_model('/content/drive/MyDrive/model2_vgg16.h5')"
      ],
      "metadata": {
        "id": "gOr456yB0vKZ"
      },
      "execution_count": 24,
      "outputs": []
    },
    {
      "cell_type": "code",
      "source": [
        "img=image.load_img('/content/drive/MyDrive/Images/Fake/135.jpg',target_size=(224,224))\n",
        "x=image.img_to_array(img)\n",
        "x\n"
      ],
      "metadata": {
        "colab": {
          "base_uri": "https://localhost:8080/"
        },
        "id": "Nhw-U8zU0zjk",
        "outputId": "ee109666-a20b-480b-8b50-b21a97705e52"
      },
      "execution_count": 34,
      "outputs": [
        {
          "output_type": "execute_result",
          "data": {
            "text/plain": [
              "array([[[255., 254., 255.],\n",
              "        [255., 254., 255.],\n",
              "        [255., 254., 255.],\n",
              "        ...,\n",
              "        [255., 249., 253.],\n",
              "        [255., 249., 253.],\n",
              "        [255., 249., 253.]],\n",
              "\n",
              "       [[255., 254., 255.],\n",
              "        [255., 254., 255.],\n",
              "        [255., 254., 255.],\n",
              "        ...,\n",
              "        [255., 249., 253.],\n",
              "        [255., 249., 253.],\n",
              "        [255., 249., 253.]],\n",
              "\n",
              "       [[255., 254., 255.],\n",
              "        [255., 254., 255.],\n",
              "        [255., 254., 255.],\n",
              "        ...,\n",
              "        [255., 249., 253.],\n",
              "        [255., 249., 253.],\n",
              "        [255., 249., 253.]],\n",
              "\n",
              "       ...,\n",
              "\n",
              "       [[254., 251., 255.],\n",
              "        [254., 251., 255.],\n",
              "        [254., 251., 255.],\n",
              "        ...,\n",
              "        [250., 250., 250.],\n",
              "        [250., 250., 250.],\n",
              "        [250., 250., 250.]],\n",
              "\n",
              "       [[254., 251., 255.],\n",
              "        [254., 251., 255.],\n",
              "        [254., 251., 255.],\n",
              "        ...,\n",
              "        [250., 250., 250.],\n",
              "        [250., 250., 250.],\n",
              "        [250., 250., 250.]],\n",
              "\n",
              "       [[254., 251., 255.],\n",
              "        [254., 251., 255.],\n",
              "        [254., 251., 255.],\n",
              "        ...,\n",
              "        [250., 250., 250.],\n",
              "        [250., 250., 250.],\n",
              "        [250., 250., 250.]]], dtype=float32)"
            ]
          },
          "metadata": {},
          "execution_count": 34
        }
      ]
    },
    {
      "cell_type": "code",
      "source": [
        "x.shape\n"
      ],
      "metadata": {
        "colab": {
          "base_uri": "https://localhost:8080/"
        },
        "id": "G2fwUw2p03DK",
        "outputId": "63ad920d-bb7d-4760-ae22-102bf489f591"
      },
      "execution_count": 35,
      "outputs": [
        {
          "output_type": "execute_result",
          "data": {
            "text/plain": [
              "(224, 224, 3)"
            ]
          },
          "metadata": {},
          "execution_count": 35
        }
      ]
    },
    {
      "cell_type": "code",
      "source": [
        "x=x/255"
      ],
      "metadata": {
        "id": "pFs6ZE3J1KfT"
      },
      "execution_count": 36,
      "outputs": []
    },
    {
      "cell_type": "code",
      "source": [
        "import matplotlib.pyplot as plt\n",
        "x = x.reshape((-1, 224, 224, 3))\n",
        "predictions = model.predict(x)\n",
        "\n",
        "# Interpret the predictions\n",
        "print(predictions)\n",
        "print(predictions[0][0],predictions[0][1])\n",
        "fake_probability = predictions[0][0]  # Assuming first index represents the probability of being fake\n",
        "\n",
        "\n",
        "# Display the image with the prediction\n",
        "plt.imshow(img)\n",
        "if predictions[0][0] > predictions[0][1]:\n",
        "    plt.title(f\"Fake (Probability: {fake_probability:.2f})\")\n",
        "else:\n",
        "    plt.title(f\"Real (Probability: {1 - fake_probability:.2f})\")\n",
        "plt.axis('off')\n",
        "plt.show()"
      ],
      "metadata": {
        "colab": {
          "base_uri": "https://localhost:8080/",
          "height": 480
        },
        "id": "Iog4CVYV1NKX",
        "outputId": "c73632d7-12cb-408e-a68f-bc8a349c147a"
      },
      "execution_count": 37,
      "outputs": [
        {
          "output_type": "stream",
          "name": "stdout",
          "text": [
            "1/1 [==============================] - 0s 21ms/step\n",
            "[[0.9833166  0.01821926]]\n",
            "0.9833166 0.018219262\n"
          ]
        },
        {
          "output_type": "display_data",
          "data": {
            "text/plain": [
              "<Figure size 640x480 with 1 Axes>"
            ],
            "image/png": "[encoded data removed]"
          },
          "metadata": {}
        }
      ]
    }
  ]
}